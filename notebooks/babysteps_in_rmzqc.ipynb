{
  "nbformat": 4,
  "nbformat_minor": 0,
  "metadata": {
    "colab": {
      "provenance": [],
      "collapsed_sections": []
    },
    "kernelspec": {
      "name": "ir",
      "display_name": "R"
    },
    "language_info": {
      "name": "R"
    }
  },
  "cells": [
    {
      "cell_type": "code",
      "execution_count": 1,
      "metadata": {
        "colab": {
          "base_uri": "https://localhost:8080/"
        },
        "id": "omyee8EeoCq5",
        "outputId": "37179aa0-9d52-4afc-d011-20036620f1aa"
      },
      "outputs": [
        {
          "output_type": "stream",
          "name": "stderr",
          "text": [
            "Installing package into â/usr/local/lib/R/site-libraryâ\n",
            "(as âlibâ is unspecified)\n",
            "\n",
            "also installing the dependencies âcollectionsâ, âontologyIndexâ, âR6Pâ\n",
            "\n",
            "\n",
            "\n",
            "Attaching package: âdplyrâ\n",
            "\n",
            "\n",
            "The following objects are masked from âpackage:statsâ:\n",
            "\n",
            "    filter, lag\n",
            "\n",
            "\n",
            "The following objects are masked from âpackage:baseâ:\n",
            "\n",
            "    intersect, setdiff, setequal, union\n",
            "\n",
            "\n"
          ]
        }
      ],
      "source": [
        "install.packages(\"rmzqc\")\n",
        "library(rmzqc)\n",
        "library(dplyr)\n",
        "library(tidyr)\n",
        "library(readr)"
      ]
    },
    {
      "cell_type": "code",
      "source": [
        "## first test creation with the most barebone mzQC imaginable\n",
        "raw_file = \"c:\\\\data\\\\special.raw\"\n",
        "file_format = getCVTemplate(accession = filenameToCV(raw_file))\n",
        "ptxqc_software = toAnalysisSoftware(id = \"MS:1003162\", version = \"1.0.13\")\n",
        "run1_qc = MzQCrunQuality$new(metadata = MzQCmetadata$new(label = raw_file,\n",
        "                                                        inputFiles = \n",
        "                                                          list(MzQCinputFile$new(basename(raw_file),\n",
        "                                                                                 raw_file,\n",
        "                                                                                 file_format)),\n",
        "                                                     analysisSoftware = list(ptxqc_software)),\n",
        "                            qualityMetrics = list(toQCMetric(id = \"MS:4000059\", value = 13405)))\n",
        "                            \n",
        "mzQC_document = MzQCmzQC$new(version = \"1.0.0\", \n",
        "                             creationDate = MzQCDateTime$new(), \n",
        "                             contactName = Sys.info()[\"user\"], \n",
        "                             contactAddress = \"test@user.info\", \n",
        "                             description = \"A minimal mzQC test document with bogus data\",\n",
        "                             runQualities = list(run1_qc),\n",
        "                             setQualities = list(), \n",
        "                             controlledVocabularies = list(getDefaultCV()))\n",
        "## test to write it out\n",
        "mzqc_filename = paste0(getwd(), \"/test.mzQC\")\n",
        "writeMZQC(mzqc_filename, mzQC_document)\n",
        "cat(mzqc_filename, \"written to disk!\")"
      ],
      "metadata": {
        "colab": {
          "base_uri": "https://localhost:8080/"
        },
        "id": "PFRDIXMf340X",
        "outputId": "ccf5f950-cf5e-4239-9fd3-bf02ed827b8e"
      },
      "execution_count": 2,
      "outputs": [
        {
          "output_type": "stream",
          "name": "stdout",
          "text": [
            "/content/test.mzQC written to disk!"
          ]
        }
      ]
    },
    {
      "cell_type": "code",
      "source": [
        "colnames <- readr::read_delim(\"https://raw.githubusercontent.com/percolator/percolator/master/data/percolator/tab/percolatorTab\", \n",
        "                            delim = \"\\t\", escape_double = FALSE, \n",
        "                           n_max = 0)\n",
        "percolatorTab <- readr::read_delim(\"https://raw.githubusercontent.com/percolator/percolator/master/data/percolator/tab/percolatorTab\", \n",
        "                            delim = \"\\t\", escape_double = FALSE, \n",
        "                            col_names = colnames, trim_ws = TRUE, skip = 2)\n",
        "colnames(percolatorTab) <- colnames(colnames)"
      ],
      "metadata": {
        "colab": {
          "base_uri": "https://localhost:8080/"
        },
        "id": "Dbpv6LY8oOYJ",
        "outputId": "fe7ad3a3-e93f-41ef-c977-484c51b5ca29"
      },
      "execution_count": 3,
      "outputs": [
        {
          "output_type": "stream",
          "name": "stderr",
          "text": [
            "\u001b[1mRows: \u001b[22m\u001b[34m0\u001b[39m \u001b[1mColumns: \u001b[22m\u001b[34m26\u001b[39m\n",
            "\u001b[36mââ\u001b[39m \u001b[1mColumn specification\u001b[22m \u001b[36mââââââââââââââââââââââââââââââââââââââââââââââââââââââââ\u001b[39m\n",
            "\u001b[1mDelimiter:\u001b[22m \"\\t\"\n",
            "\u001b[31mchr\u001b[39m (26): SpecId, Label, ScanNr, ExpMass, CalcMass, lnrSp, deltLCn, deltCn, ...\n",
            "\n",
            "\u001b[36mâ¹\u001b[39m Use `spec()` to retrieve the full column specification for this data.\n",
            "\u001b[36mâ¹\u001b[39m Specify the column types or set `show_col_types = FALSE` to quiet this message.\n",
            "Warning message:\n",
            "âOne or more parsing issues, see `problems()` for detailsâ\n",
            "\u001b[1mRows: \u001b[22m\u001b[34m19674\u001b[39m \u001b[1mColumns: \u001b[22m\u001b[34m26\u001b[39m\n",
            "\u001b[36mââ\u001b[39m \u001b[1mColumn specification\u001b[22m \u001b[36mââââââââââââââââââââââââââââââââââââââââââââââââââââââââ\u001b[39m\n",
            "\u001b[1mDelimiter:\u001b[22m \"\\t\"\n",
            "\u001b[31mchr\u001b[39m  (3): X1, X25, X26\n",
            "\u001b[32mdbl\u001b[39m (23): X2, X3, X4, X5, X6, X7, X8, X9, X10, X11, X12, X13, X14, X15, X16,...\n",
            "\n",
            "\u001b[36mâ¹\u001b[39m Use `spec()` to retrieve the full column specification for this data.\n",
            "\u001b[36mâ¹\u001b[39m Specify the column types or set `show_col_types = FALSE` to quiet this message.\n"
          ]
        }
      ]
    },
    {
      "cell_type": "code",
      "source": [
        "dm <- percolatorTab %>% slice(-1) %>% na_if(\"\") %>% na.omit %>% mutate(Err = CalcMass - ExpMass)\n",
        "head(dm, n=9)"
      ],
      "metadata": {
        "colab": {
          "base_uri": "https://localhost:8080/",
          "height": 557
        },
        "id": "KuUuWWc1wqFB",
        "outputId": "1c42e711-a653-4a83-c483-9880573b0830"
      },
      "execution_count": 4,
      "outputs": [
        {
          "output_type": "display_data",
          "data": {
            "text/html": [
              "<table class=\"dataframe\">\n",
              "<caption>A tibble: 9 Ã 27</caption>\n",
              "<thead>\n",
              "\t<tr><th scope=col>SpecId</th><th scope=col>Label</th><th scope=col>ScanNr</th><th scope=col>ExpMass</th><th scope=col>CalcMass</th><th scope=col>lnrSp</th><th scope=col>deltLCn</th><th scope=col>deltCn</th><th scope=col>Xcorr</th><th scope=col>Sp</th><th scope=col>â¯</th><th scope=col>Charge5</th><th scope=col>enzN</th><th scope=col>enzC</th><th scope=col>enzInt</th><th scope=col>lnNumSP</th><th scope=col>dM</th><th scope=col>absdM</th><th scope=col>Peptide</th><th scope=col>Proteins</th><th scope=col>Err</th></tr>\n",
              "\t<tr><th scope=col>&lt;chr&gt;</th><th scope=col>&lt;dbl&gt;</th><th scope=col>&lt;dbl&gt;</th><th scope=col>&lt;dbl&gt;</th><th scope=col>&lt;dbl&gt;</th><th scope=col>&lt;dbl&gt;</th><th scope=col>&lt;dbl&gt;</th><th scope=col>&lt;dbl&gt;</th><th scope=col>&lt;dbl&gt;</th><th scope=col>&lt;dbl&gt;</th><th scope=col>â¯</th><th scope=col>&lt;dbl&gt;</th><th scope=col>&lt;dbl&gt;</th><th scope=col>&lt;dbl&gt;</th><th scope=col>&lt;dbl&gt;</th><th scope=col>&lt;dbl&gt;</th><th scope=col>&lt;dbl&gt;</th><th scope=col>&lt;dbl&gt;</th><th scope=col>&lt;chr&gt;</th><th scope=col>&lt;chr&gt;</th><th scope=col>&lt;dbl&gt;</th></tr>\n",
              "</thead>\n",
              "<tbody>\n",
              "\t<tr><td>103111-Yeast-2hr-01_27_3_1</td><td> 1</td><td>27</td><td>1710.940</td><td>1710.930</td><td>0.000000</td><td>0.0446261</td><td>0.0446261</td><td>1.179720</td><td>207.9490</td><td>â¯</td><td>0</td><td>1</td><td>1</td><td>0</td><td>3.33220</td><td> 0.00426667</td><td>0.00426667</td><td>K.QIFDLTFGLITSDLK.S</td><td>mimic|Random_2659_2                                 </td><td>-0.010</td></tr>\n",
              "\t<tr><td>103111-Yeast-2hr-01_27_3_1</td><td> 1</td><td>27</td><td>1710.950</td><td>1710.930</td><td>0.000000</td><td>0.0446261</td><td>0.0446261</td><td>1.179720</td><td>207.9490</td><td>â¯</td><td>0</td><td>1</td><td>1</td><td>0</td><td>3.33220</td><td> 0.00480000</td><td>0.00480000</td><td>K.QIFDLTFGLITSDLK.S</td><td>mimic|Random_2659_2                                 </td><td>-0.020</td></tr>\n",
              "\t<tr><td>103111-Yeast-2hr-01_27_2_1</td><td>-1</td><td>27</td><td>1139.570</td><td>1139.580</td><td>0.693147</td><td>0.0856924</td><td>0.0856924</td><td>0.918249</td><td> 19.8140</td><td>â¯</td><td>0</td><td>1</td><td>1</td><td>0</td><td>5.33272</td><td>-0.00285000</td><td>0.00285000</td><td>K.LGICSFVSEK.G     </td><td>decoy_mimic|Random_2479_4                           </td><td> 0.010</td></tr>\n",
              "\t<tr><td>103111-Yeast-2hr-01_27_3_1</td><td>-1</td><td>27</td><td>1710.940</td><td>1710.930</td><td>0.000000</td><td>0.1560310</td><td>0.1560310</td><td>1.110110</td><td>234.1010</td><td>â¯</td><td>0</td><td>1</td><td>1</td><td>0</td><td>3.40120</td><td> 0.00426667</td><td>0.00426667</td><td>K.LDSTILGFTLDFIQK.N</td><td>decoy_mimic|Random_2659_2                           </td><td>-0.010</td></tr>\n",
              "\t<tr><td>103111-Yeast-2hr-01_27_3_1</td><td>-1</td><td>27</td><td>1710.950</td><td>1710.930</td><td>0.000000</td><td>0.1560310</td><td>0.1560310</td><td>1.110110</td><td>234.1010</td><td>â¯</td><td>0</td><td>1</td><td>1</td><td>0</td><td>3.40120</td><td> 0.00480000</td><td>0.00480000</td><td>K.LDSTILGFTLDFIQK.N</td><td>decoy_mimic|Random_2659_2                           </td><td>-0.020</td></tr>\n",
              "\t<tr><td>103111-Yeast-2hr-01_28_2_1</td><td> 1</td><td>28</td><td> 968.485</td><td> 968.494</td><td>0.693147</td><td>0.0417154</td><td>0.0417154</td><td>0.997683</td><td>277.9000</td><td>â¯</td><td>0</td><td>1</td><td>1</td><td>0</td><td>5.62040</td><td>-0.00445000</td><td>0.00445000</td><td>R.LSPMMVYK.A       </td><td>mimic|Random_445_3                                  </td><td> 0.009</td></tr>\n",
              "\t<tr><td>103111-Yeast-2hr-01_28_2_1</td><td>-1</td><td>28</td><td> 968.485</td><td> 968.480</td><td>0.693147</td><td>0.0131484</td><td>0.0131484</td><td>0.844347</td><td> 72.3443</td><td>â¯</td><td>0</td><td>1</td><td>1</td><td>0</td><td>5.61677</td><td> 0.00290000</td><td>0.00290000</td><td>K.DGHSSGIAPK.N     </td><td>decoy_mimic|Random_3094_0\tdecoy_mimic|Random_3053_0</td><td>-0.005</td></tr>\n",
              "\t<tr><td>103111-Yeast-2hr-01_41_2_1</td><td> 1</td><td>41</td><td>1345.750</td><td>1345.750</td><td>0.000000</td><td>0.2062460</td><td>0.2062460</td><td>0.808433</td><td> 51.3638</td><td>â¯</td><td>0</td><td>1</td><td>1</td><td>0</td><td>4.21951</td><td>-0.00060000</td><td>0.00060000</td><td>R.LLPYWQDVIAK.D    </td><td>sp|P00950|PMG1_YEAST                                </td><td> 0.000</td></tr>\n",
              "\t<tr><td>103111-Yeast-2hr-01_41_2_1</td><td>-1</td><td>41</td><td>1345.750</td><td>1345.740</td><td>0.000000</td><td>0.0225133</td><td>0.0225133</td><td>0.632973</td><td> 35.7004</td><td>â¯</td><td>0</td><td>1</td><td>1</td><td>0</td><td>3.61092</td><td> 0.00530000</td><td>0.00530000</td><td>K.VVSEAELLNLMK.T   </td><td>decoy_mimic|Random_1475_1                           </td><td>-0.010</td></tr>\n",
              "</tbody>\n",
              "</table>\n"
            ],
            "text/markdown": "\nA tibble: 9 Ã 27\n\n| SpecId &lt;chr&gt; | Label &lt;dbl&gt; | ScanNr &lt;dbl&gt; | ExpMass &lt;dbl&gt; | CalcMass &lt;dbl&gt; | lnrSp &lt;dbl&gt; | deltLCn &lt;dbl&gt; | deltCn &lt;dbl&gt; | Xcorr &lt;dbl&gt; | Sp &lt;dbl&gt; | â¯ â¯ | Charge5 &lt;dbl&gt; | enzN &lt;dbl&gt; | enzC &lt;dbl&gt; | enzInt &lt;dbl&gt; | lnNumSP &lt;dbl&gt; | dM &lt;dbl&gt; | absdM &lt;dbl&gt; | Peptide &lt;chr&gt; | Proteins &lt;chr&gt; | Err &lt;dbl&gt; |\n|---|---|---|---|---|---|---|---|---|---|---|---|---|---|---|---|---|---|---|---|---|\n| 103111-Yeast-2hr-01_27_3_1 |  1 | 27 | 1710.940 | 1710.930 | 0.000000 | 0.0446261 | 0.0446261 | 1.179720 | 207.9490 | â¯ | 0 | 1 | 1 | 0 | 3.33220 |  0.00426667 | 0.00426667 | K.QIFDLTFGLITSDLK.S | mimic|Random_2659_2                                  | -0.010 |\n| 103111-Yeast-2hr-01_27_3_1 |  1 | 27 | 1710.950 | 1710.930 | 0.000000 | 0.0446261 | 0.0446261 | 1.179720 | 207.9490 | â¯ | 0 | 1 | 1 | 0 | 3.33220 |  0.00480000 | 0.00480000 | K.QIFDLTFGLITSDLK.S | mimic|Random_2659_2                                  | -0.020 |\n| 103111-Yeast-2hr-01_27_2_1 | -1 | 27 | 1139.570 | 1139.580 | 0.693147 | 0.0856924 | 0.0856924 | 0.918249 |  19.8140 | â¯ | 0 | 1 | 1 | 0 | 5.33272 | -0.00285000 | 0.00285000 | K.LGICSFVSEK.G      | decoy_mimic|Random_2479_4                            |  0.010 |\n| 103111-Yeast-2hr-01_27_3_1 | -1 | 27 | 1710.940 | 1710.930 | 0.000000 | 0.1560310 | 0.1560310 | 1.110110 | 234.1010 | â¯ | 0 | 1 | 1 | 0 | 3.40120 |  0.00426667 | 0.00426667 | K.LDSTILGFTLDFIQK.N | decoy_mimic|Random_2659_2                            | -0.010 |\n| 103111-Yeast-2hr-01_27_3_1 | -1 | 27 | 1710.950 | 1710.930 | 0.000000 | 0.1560310 | 0.1560310 | 1.110110 | 234.1010 | â¯ | 0 | 1 | 1 | 0 | 3.40120 |  0.00480000 | 0.00480000 | K.LDSTILGFTLDFIQK.N | decoy_mimic|Random_2659_2                            | -0.020 |\n| 103111-Yeast-2hr-01_28_2_1 |  1 | 28 |  968.485 |  968.494 | 0.693147 | 0.0417154 | 0.0417154 | 0.997683 | 277.9000 | â¯ | 0 | 1 | 1 | 0 | 5.62040 | -0.00445000 | 0.00445000 | R.LSPMMVYK.A        | mimic|Random_445_3                                   |  0.009 |\n| 103111-Yeast-2hr-01_28_2_1 | -1 | 28 |  968.485 |  968.480 | 0.693147 | 0.0131484 | 0.0131484 | 0.844347 |  72.3443 | â¯ | 0 | 1 | 1 | 0 | 5.61677 |  0.00290000 | 0.00290000 | K.DGHSSGIAPK.N      | decoy_mimic|Random_3094_0\tdecoy_mimic|Random_3053_0 | -0.005 |\n| 103111-Yeast-2hr-01_41_2_1 |  1 | 41 | 1345.750 | 1345.750 | 0.000000 | 0.2062460 | 0.2062460 | 0.808433 |  51.3638 | â¯ | 0 | 1 | 1 | 0 | 4.21951 | -0.00060000 | 0.00060000 | R.LLPYWQDVIAK.D     | sp|P00950|PMG1_YEAST                                 |  0.000 |\n| 103111-Yeast-2hr-01_41_2_1 | -1 | 41 | 1345.750 | 1345.740 | 0.000000 | 0.0225133 | 0.0225133 | 0.632973 |  35.7004 | â¯ | 0 | 1 | 1 | 0 | 3.61092 |  0.00530000 | 0.00530000 | K.VVSEAELLNLMK.T    | decoy_mimic|Random_1475_1                            | -0.010 |\n\n",
            "text/latex": "A tibble: 9 Ã 27\n\\begin{tabular}{lllllllllllllllllllll}\n SpecId & Label & ScanNr & ExpMass & CalcMass & lnrSp & deltLCn & deltCn & Xcorr & Sp & â¯ & Charge5 & enzN & enzC & enzInt & lnNumSP & dM & absdM & Peptide & Proteins & Err\\\\\n <chr> & <dbl> & <dbl> & <dbl> & <dbl> & <dbl> & <dbl> & <dbl> & <dbl> & <dbl> & â¯ & <dbl> & <dbl> & <dbl> & <dbl> & <dbl> & <dbl> & <dbl> & <chr> & <chr> & <dbl>\\\\\n\\hline\n\t 103111-Yeast-2hr-01\\_27\\_3\\_1 &  1 & 27 & 1710.940 & 1710.930 & 0.000000 & 0.0446261 & 0.0446261 & 1.179720 & 207.9490 & â¯ & 0 & 1 & 1 & 0 & 3.33220 &  0.00426667 & 0.00426667 & K.QIFDLTFGLITSDLK.S & mimic\\textbar{}Random\\_2659\\_2                                  & -0.010\\\\\n\t 103111-Yeast-2hr-01\\_27\\_3\\_1 &  1 & 27 & 1710.950 & 1710.930 & 0.000000 & 0.0446261 & 0.0446261 & 1.179720 & 207.9490 & â¯ & 0 & 1 & 1 & 0 & 3.33220 &  0.00480000 & 0.00480000 & K.QIFDLTFGLITSDLK.S & mimic\\textbar{}Random\\_2659\\_2                                  & -0.020\\\\\n\t 103111-Yeast-2hr-01\\_27\\_2\\_1 & -1 & 27 & 1139.570 & 1139.580 & 0.693147 & 0.0856924 & 0.0856924 & 0.918249 &  19.8140 & â¯ & 0 & 1 & 1 & 0 & 5.33272 & -0.00285000 & 0.00285000 & K.LGICSFVSEK.G      & decoy\\_mimic\\textbar{}Random\\_2479\\_4                            &  0.010\\\\\n\t 103111-Yeast-2hr-01\\_27\\_3\\_1 & -1 & 27 & 1710.940 & 1710.930 & 0.000000 & 0.1560310 & 0.1560310 & 1.110110 & 234.1010 & â¯ & 0 & 1 & 1 & 0 & 3.40120 &  0.00426667 & 0.00426667 & K.LDSTILGFTLDFIQK.N & decoy\\_mimic\\textbar{}Random\\_2659\\_2                            & -0.010\\\\\n\t 103111-Yeast-2hr-01\\_27\\_3\\_1 & -1 & 27 & 1710.950 & 1710.930 & 0.000000 & 0.1560310 & 0.1560310 & 1.110110 & 234.1010 & â¯ & 0 & 1 & 1 & 0 & 3.40120 &  0.00480000 & 0.00480000 & K.LDSTILGFTLDFIQK.N & decoy\\_mimic\\textbar{}Random\\_2659\\_2                            & -0.020\\\\\n\t 103111-Yeast-2hr-01\\_28\\_2\\_1 &  1 & 28 &  968.485 &  968.494 & 0.693147 & 0.0417154 & 0.0417154 & 0.997683 & 277.9000 & â¯ & 0 & 1 & 1 & 0 & 5.62040 & -0.00445000 & 0.00445000 & R.LSPMMVYK.A        & mimic\\textbar{}Random\\_445\\_3                                   &  0.009\\\\\n\t 103111-Yeast-2hr-01\\_28\\_2\\_1 & -1 & 28 &  968.485 &  968.480 & 0.693147 & 0.0131484 & 0.0131484 & 0.844347 &  72.3443 & â¯ & 0 & 1 & 1 & 0 & 5.61677 &  0.00290000 & 0.00290000 & K.DGHSSGIAPK.N      & decoy\\_mimic\\textbar{}Random\\_3094\\_0\tdecoy\\_mimic\\textbar{}Random\\_3053\\_0 & -0.005\\\\\n\t 103111-Yeast-2hr-01\\_41\\_2\\_1 &  1 & 41 & 1345.750 & 1345.750 & 0.000000 & 0.2062460 & 0.2062460 & 0.808433 &  51.3638 & â¯ & 0 & 1 & 1 & 0 & 4.21951 & -0.00060000 & 0.00060000 & R.LLPYWQDVIAK.D     & sp\\textbar{}P00950\\textbar{}PMG1\\_YEAST                                 &  0.000\\\\\n\t 103111-Yeast-2hr-01\\_41\\_2\\_1 & -1 & 41 & 1345.750 & 1345.740 & 0.000000 & 0.0225133 & 0.0225133 & 0.632973 &  35.7004 & â¯ & 0 & 1 & 1 & 0 & 3.61092 &  0.00530000 & 0.00530000 & K.VVSEAELLNLMK.T    & decoy\\_mimic\\textbar{}Random\\_1475\\_1                            & -0.010\\\\\n\\end{tabular}\n",
            "text/plain": [
              "  SpecId                     Label ScanNr ExpMass  CalcMass lnrSp    deltLCn  \n",
              "1 103111-Yeast-2hr-01_27_3_1  1    27     1710.940 1710.930 0.000000 0.0446261\n",
              "2 103111-Yeast-2hr-01_27_3_1  1    27     1710.950 1710.930 0.000000 0.0446261\n",
              "3 103111-Yeast-2hr-01_27_2_1 -1    27     1139.570 1139.580 0.693147 0.0856924\n",
              "4 103111-Yeast-2hr-01_27_3_1 -1    27     1710.940 1710.930 0.000000 0.1560310\n",
              "5 103111-Yeast-2hr-01_27_3_1 -1    27     1710.950 1710.930 0.000000 0.1560310\n",
              "6 103111-Yeast-2hr-01_28_2_1  1    28      968.485  968.494 0.693147 0.0417154\n",
              "7 103111-Yeast-2hr-01_28_2_1 -1    28      968.485  968.480 0.693147 0.0131484\n",
              "8 103111-Yeast-2hr-01_41_2_1  1    41     1345.750 1345.750 0.000000 0.2062460\n",
              "9 103111-Yeast-2hr-01_41_2_1 -1    41     1345.750 1345.740 0.000000 0.0225133\n",
              "  deltCn    Xcorr    Sp       â¯ Charge5 enzN enzC enzInt lnNumSP dM         \n",
              "1 0.0446261 1.179720 207.9490 â¯ 0       1    1    0      3.33220  0.00426667\n",
              "2 0.0446261 1.179720 207.9490 â¯ 0       1    1    0      3.33220  0.00480000\n",
              "3 0.0856924 0.918249  19.8140 â¯ 0       1    1    0      5.33272 -0.00285000\n",
              "4 0.1560310 1.110110 234.1010 â¯ 0       1    1    0      3.40120  0.00426667\n",
              "5 0.1560310 1.110110 234.1010 â¯ 0       1    1    0      3.40120  0.00480000\n",
              "6 0.0417154 0.997683 277.9000 â¯ 0       1    1    0      5.62040 -0.00445000\n",
              "7 0.0131484 0.844347  72.3443 â¯ 0       1    1    0      5.61677  0.00290000\n",
              "8 0.2062460 0.808433  51.3638 â¯ 0       1    1    0      4.21951 -0.00060000\n",
              "9 0.0225133 0.632973  35.7004 â¯ 0       1    1    0      3.61092  0.00530000\n",
              "  absdM      Peptide            \n",
              "1 0.00426667 K.QIFDLTFGLITSDLK.S\n",
              "2 0.00480000 K.QIFDLTFGLITSDLK.S\n",
              "3 0.00285000 K.LGICSFVSEK.G     \n",
              "4 0.00426667 K.LDSTILGFTLDFIQK.N\n",
              "5 0.00480000 K.LDSTILGFTLDFIQK.N\n",
              "6 0.00445000 R.LSPMMVYK.A       \n",
              "7 0.00290000 K.DGHSSGIAPK.N     \n",
              "8 0.00060000 R.LLPYWQDVIAK.D    \n",
              "9 0.00530000 K.VVSEAELLNLMK.T   \n",
              "  Proteins                                             Err   \n",
              "1 mimic|Random_2659_2                                  -0.010\n",
              "2 mimic|Random_2659_2                                  -0.020\n",
              "3 decoy_mimic|Random_2479_4                             0.010\n",
              "4 decoy_mimic|Random_2659_2                            -0.010\n",
              "5 decoy_mimic|Random_2659_2                            -0.020\n",
              "6 mimic|Random_445_3                                    0.009\n",
              "7 decoy_mimic|Random_3094_0\\tdecoy_mimic|Random_3053_0 -0.005\n",
              "8 sp|P00950|PMG1_YEAST                                  0.000\n",
              "9 decoy_mimic|Random_1475_1                            -0.010"
            ]
          },
          "metadata": {}
        }
      ]
    },
    {
      "cell_type": "code",
      "source": [
        "erq <- dm %>% select(ExpMass,\tCalcMass,Err) %>% dplyr::summarise( quants = quantile(Err, probs = c(0.25,0.5,0.75)), sd = sd(Err) )\n",
        "erq"
      ],
      "metadata": {
        "id": "8wrkT51TwWe-",
        "colab": {
          "base_uri": "https://localhost:8080/",
          "height": 192
        },
        "outputId": "5f378b45-9336-48f9-8896-3fbeabfe1cfd"
      },
      "execution_count": 5,
      "outputs": [
        {
          "output_type": "display_data",
          "data": {
            "text/html": [
              "<table class=\"dataframe\">\n",
              "<caption>A tibble: 3 Ã 2</caption>\n",
              "<thead>\n",
              "\t<tr><th scope=col>quants</th><th scope=col>sd</th></tr>\n",
              "\t<tr><th scope=col>&lt;dbl&gt;</th><th scope=col>&lt;dbl&gt;</th></tr>\n",
              "</thead>\n",
              "<tbody>\n",
              "\t<tr><td>-0.010</td><td>0.008800275</td></tr>\n",
              "\t<tr><td> 0.000</td><td>0.008800275</td></tr>\n",
              "\t<tr><td> 0.003</td><td>0.008800275</td></tr>\n",
              "</tbody>\n",
              "</table>\n"
            ],
            "text/markdown": "\nA tibble: 3 Ã 2\n\n| quants &lt;dbl&gt; | sd &lt;dbl&gt; |\n|---|---|\n| -0.010 | 0.008800275 |\n|  0.000 | 0.008800275 |\n|  0.003 | 0.008800275 |\n\n",
            "text/latex": "A tibble: 3 Ã 2\n\\begin{tabular}{ll}\n quants & sd\\\\\n <dbl> & <dbl>\\\\\n\\hline\n\t -0.010 & 0.008800275\\\\\n\t  0.000 & 0.008800275\\\\\n\t  0.003 & 0.008800275\\\\\n\\end{tabular}\n",
            "text/plain": [
              "  quants sd         \n",
              "1 -0.010 0.008800275\n",
              "2  0.000 0.008800275\n",
              "3  0.003 0.008800275"
            ]
          },
          "metadata": {}
        }
      ]
    },
    {
      "cell_type": "code",
      "source": [
        "mes_qc <- MzQCcvParameter$new(accession=\"QC:0000000\", name=\"Mass error sigma\", value=erq$sd[1])\n",
        "# meq_qc <- MzQCqualityMetric$new(accession=\"QC:0000000\", name=\"Mass error Q1, Q2, Q3\", value=as.list(erq$quants))\n",
        "meq_qc <- MzQCqualityMetric$new(accession=\"QC:0000000\", name=\"Mass error Q1, Q2, Q3\", value=as.vector(erq$quants))\n",
        "isValidMzQC(mes_qc)\n",
        "isValidMzQC(meq_qc)  # THIS SHOULD TEST VALUE FOR SIMPLE TYPES (singleton, vector) or DFs - named lists for example don't work with JSON but are 'valid'\n",
        "meq_qc"
      ],
      "metadata": {
        "id": "cO8r0x3xwWU6",
        "colab": {
          "base_uri": "https://localhost:8080/",
          "height": 243
        },
        "outputId": "a40cac42-4d52-4e3f-d1b0-886097c832af"
      },
      "execution_count": 6,
      "outputs": [
        {
          "output_type": "display_data",
          "data": {
            "text/html": [
              "TRUE"
            ],
            "text/markdown": "TRUE",
            "text/latex": "TRUE",
            "text/plain": [
              "[1] TRUE"
            ]
          },
          "metadata": {}
        },
        {
          "output_type": "display_data",
          "data": {
            "text/html": [
              "TRUE"
            ],
            "text/markdown": "TRUE",
            "text/latex": "TRUE",
            "text/plain": [
              "[1] TRUE"
            ]
          },
          "metadata": {}
        },
        {
          "output_type": "display_data",
          "data": {
            "text/plain": [
              "Reference class object of class \"MzQCqualityMetric\"\n",
              "Field \"accession\":\n",
              "[1] \"QC:0000000\"\n",
              "Field \"name\":\n",
              "[1] \"Mass error Q1, Q2, Q3\"\n",
              "Field \"description\":\n",
              "[1] NA\n",
              "Field \"value\":\n",
              "[1] -0.010  0.000  0.003\n",
              "Field \"unit\":\n",
              "list()"
            ]
          },
          "metadata": {}
        }
      ]
    },
    {
      "cell_type": "code",
      "source": [
        "sw <- MzQCanalysisSoftware$new(uri=\"https://colab.research.google.com/#create=true&language=r&authuser=1\", \n",
        "                               version=paste(R.Version()[c(\"major\", \"minor\")], collapse = \".\"),\n",
        "                               accession=\"MS:1000531\", name=\"software\")  # THIS SHOULD NOT BE NECESSARY!\n",
        "isValidMzQC(sw)"
      ],
      "metadata": {
        "id": "21Wwf5Nlp6RP",
        "colab": {
          "base_uri": "https://localhost:8080/",
          "height": 34
        },
        "outputId": "e3f15c18-12e2-45ea-92b8-4d60a073c381"
      },
      "execution_count": 7,
      "outputs": [
        {
          "output_type": "display_data",
          "data": {
            "text/html": [
              "TRUE"
            ],
            "text/markdown": "TRUE",
            "text/latex": "TRUE",
            "text/plain": [
              "[1] TRUE"
            ]
          },
          "metadata": {}
        }
      ]
    },
    {
      "cell_type": "code",
      "source": [
        "inp <- MzQCinputFile$new(\"percolatorTab\",\"GitHub\",MzQCcvParameter$new(accession=\"MS:1000914\", name=\"tab delimited text format\"))\n",
        "isValidMzQC(inp)"
      ],
      "metadata": {
        "colab": {
          "base_uri": "https://localhost:8080/",
          "height": 34
        },
        "id": "_aTghB89m4sn",
        "outputId": "105bf908-6b59-4378-8101-00cbaad5bbaa"
      },
      "execution_count": 8,
      "outputs": [
        {
          "output_type": "display_data",
          "data": {
            "text/html": [
              "TRUE"
            ],
            "text/markdown": "TRUE",
            "text/latex": "TRUE",
            "text/plain": [
              "[1] TRUE"
            ]
          },
          "metadata": {}
        }
      ]
    },
    {
      "cell_type": "code",
      "source": [
        "rq <- MzQCrunQuality$new(\n",
        "        metadata = MzQCmetadata$new(label = \"dummy\",\n",
        "                                    inputFiles = list(inp),\n",
        "                                    analysisSoftware = list(sw)),\n",
        "        qualityMetrics = list(mes_qc, meq_qc)\n",
        ")\n",
        "isValidMzQC(rq)"
      ],
      "metadata": {
        "colab": {
          "base_uri": "https://localhost:8080/",
          "height": 34
        },
        "id": "0EMy6gVxnByz",
        "outputId": "59c16fea-2f70-4645-d2af-94caca45656f"
      },
      "execution_count": 9,
      "outputs": [
        {
          "output_type": "display_data",
          "data": {
            "text/html": [
              "TRUE"
            ],
            "text/markdown": "TRUE",
            "text/latex": "TRUE",
            "text/plain": [
              "[1] TRUE"
            ]
          },
          "metadata": {}
        }
      ]
    },
    {
      "cell_type": "code",
      "source": [
        "mymzqc <- MzQCmzQC$new(version = \"1.0.0\", \n",
        "                     creationDate = MzQCDateTime$new(), \n",
        "                     contactName = paste(Sys.info()[\"user\"]), \n",
        "                     contactAddress = \"test@user.info\", \n",
        "                     description = \"A minimal mzQC test document with bogus data\",\n",
        "                     runQualities = list(rq),\n",
        "                     setQualities = list(), \n",
        "                    #  controlledVocabularies = list(\n",
        "                    #                           MzQCcontrolledVocabulary$new(\n",
        "                    #                             \"Proteomics Standards Initiative Quality Control Ontology\",\n",
        "                    #                             \"https://github.com/HUPO-PSI/mzQC/blob/master/cv/qc-cv.obo\",\n",
        "                    #                             \"1.2.0\"),\n",
        "                    #                           MzQCcontrolledVocabulary$new(\n",
        "                    #                             \"Proteomics Standards Initiative Mass Spectrometry Ontology\",\n",
        "                    #                             \"https://github.com/HUPO-PSI/psi-ms-CV/blob/master/psi-ms.obo\",\n",
        "                    #                             \"4.1.7\")))\n",
        "                    controlledVocabularies = list(getDefaultCV()))\n",
        "\n",
        "# mymzqc$runQualities <- list(rq)\n",
        "isValidMzQC(mymzqc)"
      ],
      "metadata": {
        "colab": {
          "base_uri": "https://localhost:8080/",
          "height": 34
        },
        "id": "SNwmo-OIU3hW",
        "outputId": "2ce8347a-e5d6-4b2f-9916-302f8ef53ebf"
      },
      "execution_count": 10,
      "outputs": [
        {
          "output_type": "display_data",
          "data": {
            "text/html": [
              "TRUE"
            ],
            "text/markdown": "TRUE",
            "text/latex": "TRUE",
            "text/plain": [
              "[1] TRUE"
            ]
          },
          "metadata": {}
        }
      ]
    },
    {
      "cell_type": "code",
      "source": [
        "mzqc_filename = paste0(getwd(), \"/test.mzQC\")\n",
        "writeMZQC(mzqc_filename, mymzqc)\n",
        "cat(mzqc_filename, \"written to disk!\")"
      ],
      "metadata": {
        "colab": {
          "base_uri": "https://localhost:8080/"
        },
        "id": "sj6J8eqVpSxz",
        "outputId": "97343d0b-2d8f-4847-99a9-b56347c75eea"
      },
      "execution_count": 11,
      "outputs": [
        {
          "output_type": "stream",
          "name": "stdout",
          "text": [
            "/content/test.mzQC written to disk!"
          ]
        }
      ]
    },
    {
      "cell_type": "code",
      "source": [
        "mymzqc"
      ],
      "metadata": {
        "colab": {
          "base_uri": "https://localhost:8080/",
          "height": 1000
        },
        "id": "00pxnkJCqC5k",
        "outputId": "93209259-0c7f-48f1-c6f9-2068a64c2d14"
      },
      "execution_count": 12,
      "outputs": [
        {
          "output_type": "display_data",
          "data": {
            "text/plain": [
              "Reference class object of class \"MzQCmzQC\"\n",
              "Field \"version\":\n",
              "[1] \"1.0.0\"\n",
              "Field \"creationDate\":\n",
              "Reference class object of class \"MzQCDateTime\"\n",
              "Field \"datetime\":\n",
              "[1] \"2022-09-22T11:08:18\"\n",
              "Field \"contactName\":\n",
              "[1] \"root\"\n",
              "Field \"contactAddress\":\n",
              "[1] \"test@user.info\"\n",
              "Field \"description\":\n",
              "[1] \"A minimal mzQC test document with bogus data\"\n",
              "Field \"runQualities\":\n",
              "[[1]]\n",
              "Reference class object of class \"MzQCrunQuality\"\n",
              "Field \"metadata\":\n",
              "Reference class object of class \"MzQCmetadata\"\n",
              "Field \"label\":\n",
              "[1] \"dummy\"\n",
              "Field \"inputFiles\":\n",
              "[[1]]\n",
              "Reference class object of class \"MzQCinputFile\"\n",
              "Field \"name\":\n",
              "[1] \"percolatorTab\"\n",
              "Field \"location\":\n",
              "[1] \"GitHub\"\n",
              "Field \"fileFormat\":\n",
              "Reference class object of class \"MzQCcvParameter\"\n",
              "Field \"accession\":\n",
              "[1] \"MS:1000914\"\n",
              "Field \"name\":\n",
              "[1] \"tab delimited text format\"\n",
              "Field \"value\":\n",
              "[1] NA\n",
              "Field \"description\":\n",
              "[1] NA\n",
              "Field \"fileProperties\":\n",
              "list()\n",
              "\n",
              "Field \"analysisSoftware\":\n",
              "[[1]]\n",
              "Reference class object of class \"MzQCanalysisSoftware\"\n",
              "Field \"accession\":\n",
              "[1] \"MS:1000531\"\n",
              "Field \"name\":\n",
              "[1] \"software\"\n",
              "Field \"version\":\n",
              "[1] \"4.2.1\"\n",
              "Field \"uri\":\n",
              "[1] \"https://colab.research.google.com/#create=true&language=r&authuser=1\"\n",
              "Field \"description\":\n",
              "[1] NA\n",
              "Field \"value\":\n",
              "[1] NA\n",
              "\n",
              "Field \"cvParameters\":\n",
              "list()\n",
              "Field \"qualityMetrics\":\n",
              "[[1]]\n",
              "Reference class object of class \"MzQCcvParameter\"\n",
              "Field \"accession\":\n",
              "[1] \"QC:0000000\"\n",
              "Field \"name\":\n",
              "[1] \"Mass error sigma\"\n",
              "Field \"value\":\n",
              "[1] 0.008800275\n",
              "Field \"description\":\n",
              "[1] NA\n",
              "\n",
              "[[2]]\n",
              "Reference class object of class \"MzQCqualityMetric\"\n",
              "Field \"accession\":\n",
              "[1] \"QC:0000000\"\n",
              "Field \"name\":\n",
              "[1] \"Mass error Q1, Q2, Q3\"\n",
              "Field \"description\":\n",
              "[1] NA\n",
              "Field \"value\":\n",
              "[1] -0.010  0.000  0.003\n",
              "Field \"unit\":\n",
              "list()\n",
              "\n",
              "\n",
              "Field \"setQualities\":\n",
              "list()\n",
              "Field \"controlledVocabularies\":\n",
              "[[1]]\n",
              "Reference class object of class \"MzQCcontrolledVocabulary\"\n",
              "Field \"name\":\n",
              "[1] \"Proteomics Standards Initiative Mass Spectrometry Ontology\"\n",
              "Field \"uri\":\n",
              "[1] \"https://github.com/HUPO-PSI/psi-ms-CV/releases/download/v4.1.95/psi-ms.obo\"\n",
              "Field \"version\":\n",
              "[1] \"4.1.95\"\n"
            ]
          },
          "metadata": {}
        }
      ]
    }
  ]
}
